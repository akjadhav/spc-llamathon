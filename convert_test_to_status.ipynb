{
 "cells": [
  {
   "cell_type": "code",
   "execution_count": 12,
   "metadata": {},
   "outputs": [],
   "source": [
    "import re"
   ]
  },
  {
   "cell_type": "code",
   "execution_count": 13,
   "metadata": {},
   "outputs": [
    {
     "data": {
      "text/plain": [
       "\"\\n> spc-llamathon@1.0.0 test\\n> jest example.test.js\\n\\nFAIL ./example.test.js\\n  add function\\n    ✓ should add two positive numbers correctly (1 ms)\\n    ✓ should add two negative numbers correctly\\n    ✓ should add a positive and a negative number correctly\\n    ✓ should add two zeros correctly\\n    ✓ should add a number and zero correctly\\n    ✓ should add two decimal numbers correctly\\n    ✓ should add a decimal and an integer number correctly\\n    ✓ should add two large numbers correctly\\n    ✓ should return NaN when adding NaN\\n    ✓ should return Infinity when adding Infinity\\n    ✓ should return -Infinity when adding -Infinity (1 ms)\\n  multiply\\n    ✕ should multiply two positive numbers correctly\\n    ✕ should multiply two negative numbers correctly\\n    ✕ should multiply a positive and a negative number correctly\\n    ✕ should multiply two zero numbers correctly\\n    ✕ should multiply a number with zero correctly\\n    ✕ should multiply a number with one correctly\\n    ✕ should multiply large numbers correctly\\n    ✕ should multiply decimal numbers correctly\\n    ✕ should return NaN when multiplying NaN values\\n    ✕ should return Infinity when multiplying Infinity values\\n    ✕ should return -Infinity when multiplying -Infinity values\\n\\n  ● multiply › should multiply two positive numbers correctly\\n\\n    TypeError: multiply is not a function\\n\\n      70 |     // Test case: Multiplying two positive numbers\\n      71 |     it('should multiply two positive numbers correctly', () => {\\n    > 72 |         expect(multiply(2, 3)).toBe(6);\\n         |                ^\\n      73 |         expect(multiply(5, 7)).toBe(35);\\n      74 |     });\\n      75 |\\n\\n      at Object.multiply (example.test.js:72:16)\\n\\n  ● multiply › should multiply two negative numbers correctly\\n\\n    TypeError: multiply is not a function\\n\\n      76 |     // Test case: Multiplying two negative numbers\\n      77 |     it('should multiply two negative numbers correctly', () => {\\n    > 78 |         expect(multiply(-2, -3)).toBe(6);\\n         |                ^\\n      79 |         expect(multiply(-5, -7)).toBe(35);\\n      80 |     });\\n      81 |\\n\\n      at Object.multiply (example.test.js:78:16)\\n\\n  ● multiply › should multiply a positive and a negative number correctly\\n\\n    TypeError: multiply is not a function\\n\\n      82 |     // Test case: Multiplying a positive and a negative number\\n      83 |     it('should multiply a positive and a negative number correctly', () => {\\n    > 84 |         expect(multiply(2, -3)).toBe(-6);\\n         |                ^\\n      85 |         expect(multiply(-5, 7)).toBe(-35);\\n      86 |     });\\n      87 |\\n\\n      at Object.multiply (example.test.js:84:16)\\n\\n  ● multiply › should multiply two zero numbers correctly\\n\\n    TypeError: multiply is not a function\\n\\n      88 |     // Test case: Multiplying two zero numbers\\n      89 |     it('should multiply two zero numbers correctly', () => {\\n    > 90 |         expect(multiply(0, 0)).toBe(0);\\n         |                ^\\n      91 |     });\\n      92 |\\n      93 |     // Test case: Multiplying a number with zero\\n\\n      at Object.multiply (example.test.js:90:16)\\n\\n  ● multiply › should multiply a number with zero correctly\\n\\n    TypeError: multiply is not a function\\n\\n      93 |     // Test case: Multiplying a number with zero\\n      94 |     it('should multiply a number with zero correctly', () => {\\n    > 95 |         expect(multiply(2, 0)).toBe(0);\\n         |                ^\\n      96 |         expect(multiply(0, 3)).toBe(0);\\n      97 |     });\\n      98 |\\n\\n      at Object.multiply (example.test.js:95:16)\\n\\n  ● multiply › should multiply a number with one correctly\\n\\n    TypeError: multiply is not a function\\n\\n       99 |     // Test case: Multiplying a number with one\\n      100 |     it('should multiply a number with one correctly', () => {\\n    > 101 |         expect(multiply(2, 1)).toBe(2);\\n          |                ^\\n      102 |         expect(multiply(1, 3)).toBe(3);\\n      103 |     });\\n      104 |\\n\\n      at Object.multiply (example.test.js:101:16)\\n\\n  ● multiply › should multiply large numbers correctly\\n\\n    TypeError: multiply is not a function\\n\\n      105 |     // Test case: Multiplying large numbers\\n      106 |     it('should multiply large numbers correctly', () => {\\n    > 107 |         expect(multiply(1000, 2000)).toBe(2000000);\\n          |                ^\\n      108 |     });\\n      109 |\\n      110 |     // Test case: Multiplying decimal numbers\\n\\n      at Object.multiply (example.test.js:107:16)\\n\\n  ● multiply › should multiply decimal numbers correctly\\n\\n    TypeError: multiply is not a function\\n\\n      110 |     // Test case: Multiplying decimal numbers\\n      111 |     it('should multiply decimal numbers correctly', () => {\\n    > 112 |         expect(multiply(2.5, 3.7)).toBeCloseTo(9.25);\\n          |                ^\\n      113 |     });\\n      114 |\\n      115 |     // Test case: Multiplying NaN (Not a Number) values\\n\\n      at Object.multiply (example.test.js:112:16)\\n\\n  ● multiply › should return NaN when multiplying NaN values\\n\\n    TypeError: multiply is not a function\\n\\n      115 |     // Test case: Multiplying NaN (Not a Number) values\\n      116 |     it('should return NaN when multiplying NaN values', () => {\\n    > 117 |         expect(multiply(NaN, 2)).toBeNaN();\\n          |                ^\\n      118 |         expect(multiply(3, NaN)).toBeNaN();\\n      119 |         expect(multiply(NaN, NaN)).toBeNaN();\\n      120 |     });\\n\\n      at Object.multiply (example.test.js:117:16)\\n\\n  ● multiply › should return Infinity when multiplying Infinity values\\n\\n    TypeError: multiply is not a function\\n\\n      122 |     // Test case: Multiplying Infinity values\\n      123 |     it('should return Infinity when multiplying Infinity values', () => {\\n    > 124 |         expect(multiply(Infinity, 2)).toBe(Infinity);\\n          |                ^\\n      125 |         expect(multiply(3, Infinity)).toBe(Infinity);\\n      126 |         expect(multiply(Infinity, Infinity)).toBe(Infinity);\\n      127 |     });\\n\\n      at Object.multiply (example.test.js:124:16)\\n\\n  ● multiply › should return -Infinity when multiplying -Infinity values\\n\\n    TypeError: multiply is not a function\\n\\n      129 |     // Test case: Multiplying -Infinity values\\n      130 |     it('should return -Infinity when multiplying -Infinity values', () => {\\n    > 131 |         expect(multiply(-Infinity, 2)).toBe(-Infinity);\\n          |                ^\\n      132 |         expect(multiply(3, -Infinity)).toBe(-Infinity);\\n      133 |         expect(multiply(-Infinity, -Infinity)).toBe(Infinity);\\n      134 |     });\\n\\n      at Object.multiply (example.test.js:131:16)\\n\\nTest Suites: 1 failed, 1 total\\nTests:       11 failed, 11 passed, 22 total\\nSnapshots:   0 total\\nTime:        0.251 s\\nRan all test suites matching /example.test.js/i.\\nnpm notice \\nnpm notice New major version of npm available! 9.2.0 -> 10.8.2\\nnpm notice Changelog: <https://github.com/npm/cli/releases/tag/v10.8.2>\\nnpm notice Run `npm install -g npm@10.8.2` to update!\\nnpm notice \\n\""
      ]
     },
     "execution_count": 13,
     "metadata": {},
     "output_type": "execute_result"
    }
   ],
   "source": [
    "# Let's read the contents of the file \"sample_data/stderr.txt\" in Python.\n",
    "file_path = 'sample_data/stderr.txt'\n",
    "\n",
    "# Reading the file and storing its contents in a variable.\n",
    "with open(file_path, 'r') as file:\n",
    "    sample_text = file.read()\n",
    "\n",
    "sample_text"
   ]
  },
  {
   "cell_type": "code",
   "execution_count": 33,
   "metadata": {},
   "outputs": [
    {
     "name": "stdout",
     "output_type": "stream",
     "text": [
      "  add function\n",
      "    ✓ should add two positive numbers correctly (1 ms)\n",
      "    ✓ should add two negative numbers correctly\n",
      "    ✓ should add a positive and a negative number correctly\n",
      "    ✓ should add two zeros correctly\n",
      "    ✓ should add a number and zero correctly\n",
      "    ✓ should add two decimal numbers correctly\n",
      "    ✓ should add a decimal and an integer number correctly\n",
      "    ✓ should add two large numbers correctly\n",
      "    ✓ should return NaN when adding NaN\n",
      "    ✓ should return Infinity when adding Infinity\n",
      "    ✓ should return -Infinity when adding -Infinity (1 ms)\n",
      "  multiply\n",
      "    ✕ should multiply two positive numbers correctly\n",
      "    ✕ should multiply two negative numbers correctly\n",
      "    ✕ should multiply a positive and a negative number correctly\n",
      "    ✕ should multiply two zero numbers correctly\n",
      "    ✕ should multiply a number with zero correctly\n",
      "    ✕ should multiply a number with one correctly\n",
      "    ✕ should multiply large numbers correctly\n",
      "    ✕ should multiply decimal numbers correctly\n",
      "    ✕ should return NaN when multiplying NaN values\n",
      "    ✕ should return Infinity when multiplying Infinity values\n",
      "    ✕ should return -Infinity when multiplying -Infinity values\n"
     ]
    }
   ],
   "source": [
    "# Regular expression to recognize the start of a block and the end of the block\n",
    "block_pattern = re.compile(r'(  .+?)(?:\\n\\s*\\n)', re.DOTALL)\n",
    "\n",
    "# Finding the first block in the sample text\n",
    "match = block_pattern.search(sample_text)\n",
    "\n",
    "# Get and print the first block\n",
    "block = match.group(1)\n",
    "print(block)"
   ]
  },
  {
   "cell_type": "code",
   "execution_count": 37,
   "metadata": {},
   "outputs": [
    {
     "data": {
      "text/plain": [
       "{'add function': {'should add two positive numbers correctly': True,\n",
       "  'should add two negative numbers correctly': True,\n",
       "  'should add a positive and a negative number correctly': True,\n",
       "  'should add two zeros correctly': True,\n",
       "  'should add a number and zero correctly': True,\n",
       "  'should add two decimal numbers correctly': True,\n",
       "  'should add a decimal and an integer number correctly': True,\n",
       "  'should add two large numbers correctly': True,\n",
       "  'should return NaN when adding NaN': True,\n",
       "  'should return Infinity when adding Infinity': True,\n",
       "  'should return -Infinity when adding -Infinity': True},\n",
       " 'multiply': {'should multiply two positive numbers correctly': False,\n",
       "  'should multiply two negative numbers correctly': False,\n",
       "  'should multiply a positive and a negative number correctly': False,\n",
       "  'should multiply two zero numbers correctly': False,\n",
       "  'should multiply a number with zero correctly': False,\n",
       "  'should multiply a number with one correctly': False,\n",
       "  'should multiply large numbers correctly': False,\n",
       "  'should multiply decimal numbers correctly': False,\n",
       "  'should return NaN when multiplying NaN values': False,\n",
       "  'should return Infinity when multiplying Infinity values': False,\n",
       "  'should return -Infinity when multiplying -Infinity values': False}}"
      ]
     },
     "execution_count": 37,
     "metadata": {},
     "output_type": "execute_result"
    }
   ],
   "source": [
    "res = {}\n",
    "latest_suite = None\n",
    "\n",
    "def handle_block(block):\n",
    "    global latest_suite\n",
    "    lines = block.split('\\n')\n",
    "\n",
    "    for line in lines:\n",
    "        # detect if new suit\n",
    "        if not line.startswith('   '):\n",
    "            suit_name = line.strip()\n",
    "            res[suit_name] = {}\n",
    "            latest_suite = suit_name\n",
    "            continue\n",
    "        \n",
    "        status = line[4]\n",
    "        description = line[6:]\n",
    "\n",
    "        # Regular expression to match and remove the \" (...)\" part at the end\n",
    "        pattern = re.compile(r' \\(.+\\)$')\n",
    "\n",
    "        # Remove the \" (...)\" part if present\n",
    "        description = pattern.sub('', description)\n",
    "\n",
    "        res[latest_suite][description] = False if status == '✕' else True\n",
    "\n",
    "handle_block(block)\n",
    "res"
   ]
  },
  {
   "cell_type": "markdown",
   "metadata": {},
   "source": []
  },
  {
   "cell_type": "markdown",
   "metadata": {},
   "source": []
  }
 ],
 "metadata": {
  "kernelspec": {
   "display_name": "Python 3",
   "language": "python",
   "name": "python3"
  },
  "language_info": {
   "codemirror_mode": {
    "name": "ipython",
    "version": 3
   },
   "file_extension": ".py",
   "mimetype": "text/x-python",
   "name": "python",
   "nbconvert_exporter": "python",
   "pygments_lexer": "ipython3",
   "version": "3.12.4"
  }
 },
 "nbformat": 4,
 "nbformat_minor": 2
}
